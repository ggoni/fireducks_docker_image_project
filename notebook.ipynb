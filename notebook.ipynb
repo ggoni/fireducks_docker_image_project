{
 "cells": [
  {
   "cell_type": "code",
   "execution_count": null,
   "metadata": {
    "vscode": {
     "languageId": "plaintext"
    }
   },
   "outputs": [],
   "source": [
    "import fireducks.pandas as pd"
   ]
  },
  {
   "cell_type": "code",
   "execution_count": null,
   "metadata": {
    "vscode": {
     "languageId": "plaintext"
    }
   },
   "outputs": [],
   "source": [
    "!wget -q https://data.rapids.ai/datasets/nyc_parking/nyc_parking_violations_2022.parquet"
   ]
  },
  {
   "cell_type": "code",
   "execution_count": null,
   "metadata": {
    "vscode": {
     "languageId": "plaintext"
    }
   },
   "outputs": [],
   "source": [
    "%%time\n",
    "(\n",
    "    pd.read_parquet(\"nyc_parking_violations_2022.parquet\")\n",
    "      .groupby(\"Vehicle Body Type\")    \n",
    "      .agg(Count=(\"Summons Number\", \"count\"))\n",
    "      .sort_values(by=\"Count\", ascending=False)\n",
    "      .head(10)\n",
    "      .plot(kind=\"bar\")\n",
    ");"
   ]
  },
  {
   "cell_type": "code",
   "execution_count": null,
   "metadata": {
    "vscode": {
     "languageId": "plaintext"
    }
   },
   "outputs": [],
   "source": []
  }
 ],
 "metadata": {
  "language_info": {
   "name": "python"
  }
 },
 "nbformat": 4,
 "nbformat_minor": 2
}
